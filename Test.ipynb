{
 "cells": [
  {
   "cell_type": "code",
   "execution_count": 1,
   "id": "cc6d153b-5446-48df-a5d3-6f6469ef999c",
   "metadata": {},
   "outputs": [],
   "source": [
    "import numpy as np\n",
    "import pandas as pd\n",
    "import tensorflow as tf\n",
    "import tensorflow_recommenders as tfrs\n",
    "from sklearn.preprocessing import LabelEncoder"
   ]
  },
  {
   "cell_type": "code",
   "execution_count": 4,
   "id": "01507551-3770-4a5b-8d3d-2c3afb76f776",
   "metadata": {},
   "outputs": [
    {
     "name": "stdout",
     "output_type": "stream",
     "text": [
      "     user_id user_name     full_name password  age  gender\n",
      "0          0    user_0    Fullname_0   123456   39    Male\n",
      "1          1    user_1    Fullname_1   123456   41    Male\n",
      "2          2    user_2    Fullname_2   123456   43    Male\n",
      "3          3    user_3    Fullname_3   123456   45  Female\n",
      "4          4    user_4    Fullname_4   123456   22  Female\n",
      "..       ...       ...           ...      ...  ...     ...\n",
      "995      995  user_995  Fullname_995   123456   43    Male\n",
      "996      996  user_996  Fullname_996   123456   39  Female\n",
      "997      997  user_997  Fullname_997   123456   26  Female\n",
      "998      998  user_998  Fullname_998   123456   31    Male\n",
      "999      999  user_999  Fullname_999   123456   18    Male\n",
      "\n",
      "[1000 rows x 6 columns]\n",
      "     location_id location_name    category  \\\n",
      "0              0    Location_0  Restaurant   \n",
      "1              1    Location_1  Restaurant   \n",
      "2              2    Location_2         Bar   \n",
      "3              3    Location_3  Restaurant   \n",
      "4              4    Location_4  Restaurant   \n",
      "..           ...           ...         ...   \n",
      "995          995  Location_995  Restaurant   \n",
      "996          996  Location_996        Cafe   \n",
      "997          997  Location_997        Cafe   \n",
      "998          998  Location_998        Park   \n",
      "999          999  Location_999        Cafe   \n",
      "\n",
      "                                           description  \n",
      "0    It is a long established fact that a reader wi...  \n",
      "1    It is a long established fact that a reader wi...  \n",
      "2    It is a long established fact that a reader wi...  \n",
      "3    It is a long established fact that a reader wi...  \n",
      "4    It is a long established fact that a reader wi...  \n",
      "..                                                 ...  \n",
      "995  It is a long established fact that a reader wi...  \n",
      "996  It is a long established fact that a reader wi...  \n",
      "997  It is a long established fact that a reader wi...  \n",
      "998  It is a long established fact that a reader wi...  \n",
      "999  It is a long established fact that a reader wi...  \n",
      "\n",
      "[1000 rows x 4 columns]\n",
      "      user_id  location_id  rating\n",
      "0         532          716       5\n",
      "1         256          125       1\n",
      "2          49          890       5\n",
      "3         152           25       3\n",
      "4         421          761       5\n",
      "...       ...          ...     ...\n",
      "4995      322          300       3\n",
      "4996      436          514       3\n",
      "4997      396          668       1\n",
      "4998      104          327       2\n",
      "4999      589          270       5\n",
      "\n",
      "[5000 rows x 3 columns]\n"
     ]
    }
   ],
   "source": [
    "# Sample data\n",
    "user_data = pd.DataFrame({\n",
    "    \"user_id\": np.arange(1000),\n",
    "    \"user_name\": [f\"user_{i}\" for i in range(1000)],\n",
    "    \"full_name\": [f\"Fullname_{i}\" for i in range(1000)],\n",
    "    \"password\": \"123456\",\n",
    "    \"age\": np.random.randint(18, 65, size=1000),\n",
    "    \"gender\": np.random.choice([\"Male\", \"Female\"], size=1000),\n",
    "})\n",
    "print(user_data)\n",
    "location_data = pd.DataFrame({\n",
    "    \"location_id\": [i for i in range(1000)],\n",
    "    \"location_name\": [f\"Location_{i}\" for i in range(1000)],\n",
    "    \"category\": np.random.choice([\"Restaurant\", \"Cafe\", \"Bar\", \"Park\"], size=1000),\n",
    "    \"description\" :\"It is a long established fact that a reader will be distracted by the readable content of a page when looking at its layout. The point of using Lorem Ipsum is that it has a more-or-less normal distribution of letters, as opposed to using 'Content here, content here', making it look like readable English.\",\n",
    "})\n",
    "print(location_data)\n",
    "ratings = pd.DataFrame({\n",
    "    \"user_id\": np.random.choice(user_data[\"user_id\"], size=5000),\n",
    "    \"location_id\": np.random.choice(location_data[\"location_id\"], size=5000),\n",
    "    \"rating\": np.random.randint(1, 6, size=5000)\n",
    "})\n",
    "print(ratings)"
   ]
  },
  {
   "cell_type": "code",
   "execution_count": 5,
   "id": "ef6638b5-4659-4015-97d9-b009a5a1ff89",
   "metadata": {},
   "outputs": [],
   "source": [
    "location_encoder = LabelEncoder()\n",
    "location_data[\"location_index\"] = location_encoder.fit_transform(location_data[\"location_id\"])\n",
    "ratings[\"location_index\"] = location_encoder.transform(ratings[\"location_id\"])"
   ]
  },
  {
   "cell_type": "code",
   "execution_count": 6,
   "id": "5990af9c-8d75-4abd-98b1-23e1cb950a08",
   "metadata": {},
   "outputs": [],
   "source": [
    "# Create train and test datasets\n",
    "train = tf.data.Dataset.from_tensor_slices((\n",
    "    {\"user_id\": ratings[\"user_id\"], \"location_id\": ratings[\"location_index\"]}, \n",
    "    ratings[\"rating\"]\n",
    ")).shuffle(len(ratings))"
   ]
  },
  {
   "cell_type": "code",
   "execution_count": 7,
   "id": "1e1cb1a5-fbae-4233-8e0e-247543b31fc0",
   "metadata": {},
   "outputs": [],
   "source": [
    "test = tf.data.Dataset.from_tensor_slices((\n",
    "    {\"user_id\": ratings[\"user_id\"], \"location_id\": ratings[\"location_index\"]}, \n",
    "    ratings[\"rating\"]\n",
    ")).batch(len(location_data))"
   ]
  },
  {
   "cell_type": "code",
   "execution_count": 13,
   "id": "b934d94b-4574-4302-8172-80ec8dd9acbf",
   "metadata": {},
   "outputs": [],
   "source": [
    "# Model architecture\n",
    "user_id = tf.keras.Input(shape=(), name=\"user_id\", dtype=tf.int32)\n",
    "location_id = tf.keras.Input(shape=(), name=\"location_id\", dtype=tf.int32)\n",
    "user_embedding = tf.keras.layers.Embedding(input_dim=len(user_data), output_dim=32)(user_id)\n",
    "location_embedding = tf.keras.layers.Embedding(input_dim=len(location_data), output_dim=32)(location_id)\n",
    "dot_product = tf.keras.layers.Dot(axes=1)([user_embedding, location_embedding])\n",
    "model = tf.keras.Model(inputs=[user_id, location_id], outputs=dot_product)"
   ]
  },
  {
   "cell_type": "code",
   "execution_count": 14,
   "id": "a41141df-36ba-446a-9756-c4a9401db261",
   "metadata": {},
   "outputs": [],
   "source": [
    "# Compile and evaluate the model\n",
    "model.compile(optimizer=tf.keras.optimizers.Adagrad(0.1), loss=tf.keras.losses.MeanSquaredError(), metrics=[\"accuracy\"])"
   ]
  },
  {
   "cell_type": "code",
   "execution_count": 15,
   "id": "048e9235-e5a1-4577-8c25-9126889addb1",
   "metadata": {},
   "outputs": [
    {
     "name": "stdout",
     "output_type": "stream",
     "text": [
      "\u001b[1m5/5\u001b[0m \u001b[32m━━━━━━━━━━━━━━━━━━━━\u001b[0m\u001b[37m\u001b[0m \u001b[1m0s\u001b[0m 6ms/step - accuracy: 0.0000e+00 - loss: 10.9548  \n"
     ]
    },
    {
     "data": {
      "text/plain": [
       "[10.966470718383789, 0.0]"
      ]
     },
     "execution_count": 15,
     "metadata": {},
     "output_type": "execute_result"
    }
   ],
   "source": [
    "model.evaluate(test)"
   ]
  },
  {
   "cell_type": "code",
   "execution_count": 22,
   "id": "17e13ee2-8f39-403a-b238-f69737eef584",
   "metadata": {},
   "outputs": [],
   "source": [
    "specific_user_id = 0"
   ]
  },
  {
   "cell_type": "code",
   "execution_count": 23,
   "id": "7b0850d6-7c1f-45f9-8a92-b91ca06146d1",
   "metadata": {},
   "outputs": [
    {
     "name": "stdout",
     "output_type": "stream",
     "text": [
      "\u001b[1m1000/1000\u001b[0m \u001b[32m━━━━━━━━━━━━━━━━━━━━\u001b[0m\u001b[37m\u001b[0m \u001b[1m1s\u001b[0m 753us/step\n",
      "Top 10 recommended locations for user 0:\n",
      "200: Predicted rating - [0.01997084]\n",
      "335: Predicted rating - [0.01312447]\n",
      "522: Predicted rating - [0.01312197]\n",
      "159: Predicted rating - [0.0128419]\n",
      "339: Predicted rating - [0.01268517]\n",
      "851: Predicted rating - [0.01267172]\n",
      "733: Predicted rating - [0.01252961]\n",
      "774: Predicted rating - [0.01228201]\n",
      "130: Predicted rating - [0.01205788]\n",
      "527: Predicted rating - [0.01180554]\n"
     ]
    }
   ],
   "source": [
    "# Create a dataset for the specific userId\n",
    "locations_for_specific_user = tf.data.Dataset.from_tensor_slices({\n",
    "    \"user_id\": np.repeat(specific_user_id, len(location_data)),\n",
    "    \"location_id\": np.arange(len(location_data))  # Use location_index instead of location_name\n",
    "})\n",
    "\n",
    "# Reshape the input tensors to match the expected shapes\n",
    "locations_for_specific_user = locations_for_specific_user.map(lambda x: {\n",
    "    \"user_id\": tf.reshape(x[\"user_id\"], (1,)),\n",
    "    \"location_id\": tf.reshape(x[\"location_id\"], (1,))\n",
    "})\n",
    "\n",
    "# Predict ratings for locations for the specific userId\n",
    "predicted_ratings = model.predict(locations_for_specific_user)\n",
    "\n",
    "# Combine location_index with predicted ratings\n",
    "predicted_ratings_with_indexes = list(zip(np.arange(len(location_data)), predicted_ratings))\n",
    "\n",
    "# Sort by predicted ratings\n",
    "recommended_locations_indexes = sorted(predicted_ratings_with_indexes, key=lambda x: x[1], reverse=True)\n",
    "\n",
    "# Choose the desired number of recommended locations\n",
    "num_recommendations = 10\n",
    "top_recommendations_indexes = recommended_locations_indexes[:num_recommendations]\n",
    "\n",
    "# Decode location indexes back to location names\n",
    "top_recommendations = [(location_encoder.inverse_transform([index])[0], rating) for index, rating in top_recommendations_indexes]\n",
    "\n",
    "# Print the top recommended locations\n",
    "print(f\"Top {num_recommendations} recommended locations for user {specific_user_id}:\")\n",
    "for location, rating in top_recommendations:\n",
    "    print(f\"{location}: Predicted rating - {rating}\")\n",
    "\n"
   ]
  }
 ],
 "metadata": {
  "kernelspec": {
   "display_name": "Python 3 (ipykernel)",
   "language": "python",
   "name": "python3"
  },
  "language_info": {
   "codemirror_mode": {
    "name": "ipython",
    "version": 3
   },
   "file_extension": ".py",
   "mimetype": "text/x-python",
   "name": "python",
   "nbconvert_exporter": "python",
   "pygments_lexer": "ipython3",
   "version": "3.12.3"
  }
 },
 "nbformat": 4,
 "nbformat_minor": 5
}
